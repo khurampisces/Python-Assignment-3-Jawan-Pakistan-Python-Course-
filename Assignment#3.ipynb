{
 "cells": [
  {
   "cell_type": "markdown",
   "metadata": {},
   "source": [
    "# ASSIGNMENT # 3\n",
    "# Question # 1: Python program to print the following string in a specific format"
   ]
  },
  {
   "cell_type": "code",
   "execution_count": 1,
   "metadata": {},
   "outputs": [
    {
     "name": "stdout",
     "output_type": "stream",
     "text": [
      "Twinkle, twinkle, little star,\n",
      "\tHow I wonder what you are!\n",
      "\t\tUp above the world so high,\n",
      "\t\tLike a diamond in the sky.\n",
      "Twinkle, twinkle, little star,\n",
      "\tHow I wonder what you are\n"
     ]
    }
   ],
   "source": [
    "print(\"Twinkle, twinkle, little star,\\n\\tHow I wonder what you are!\\n\\t\\tUp above the world so high,\\n\\t\\tLike a diamond in the sky.\\nTwinkle, twinkle, little star,\\n\\tHow I wonder what you are\");"
   ]
  },
  {
   "cell_type": "markdown",
   "metadata": {},
   "source": [
    "# Question # 2: Write a Python program to get the Python version you are using"
   ]
  },
  {
   "cell_type": "code",
   "execution_count": 2,
   "metadata": {},
   "outputs": [
    {
     "name": "stdout",
     "output_type": "stream",
     "text": [
      "You are using python version:  3.7.2 (tags/v3.7.2:9a3ffc0492, Dec 23 2018, 22:20:52) [MSC v.1916 32 bit (Intel)]\n"
     ]
    }
   ],
   "source": [
    "#import system class\n",
    "import sys\n",
    "print(\"You are using python version: \", sys.version);"
   ]
  },
  {
   "cell_type": "markdown",
   "metadata": {},
   "source": [
    "# Question # 3: Write a Python program to display the current date and time."
   ]
  },
  {
   "cell_type": "code",
   "execution_count": 3,
   "metadata": {},
   "outputs": [
    {
     "name": "stdout",
     "output_type": "stream",
     "text": [
      "Today is: 23-Oct-2021\n",
      "Current time is: 16:23:53 PM\n"
     ]
    }
   ],
   "source": [
    "#import time class\n",
    "from datetime import datetime\n",
    "\n",
    "#store current date & time in vairable.\n",
    "current_date = datetime.today();\n",
    "\n",
    "#customize format of date by using bulitin \"strftime\" function and store in format_date variable...\n",
    "format_date = current_date.strftime(\"%d-%b-%Y\");\n",
    "print(\"Today is:\",format_date);\n",
    "\n",
    "#customize format of time by using bulitin \"strftime\" function and store in format_time variable...\n",
    "format_time = current_date.strftime(\"%H:%M:%S %p\");\n",
    "print(\"Current time is:\",format_time);"
   ]
  },
  {
   "cell_type": "markdown",
   "metadata": {},
   "source": [
    "# Question # 4: Write a Python program which accepts the radius of a circle from the user and compute the area."
   ]
  },
  {
   "cell_type": "code",
   "execution_count": 4,
   "metadata": {},
   "outputs": [
    {
     "name": "stdout",
     "output_type": "stream",
     "text": [
      "Enter vlaue the radius of circle: 7\n",
      "Area of cirlce is: 153.94\n"
     ]
    }
   ],
   "source": [
    "import math\n",
    "\n",
    "radius = float(input(\"Enter vlaue the radius of circle: \"));\n",
    "area = round((math.pi * radius * radius),2);\n",
    "\n",
    "print(\"Area of cirlce is:\",area);"
   ]
  },
  {
   "cell_type": "markdown",
   "metadata": {},
   "source": [
    "# Question # 5: Write a Python program which accepts the user's first and last name and print them in reverse order with a space between them."
   ]
  },
  {
   "cell_type": "code",
   "execution_count": 5,
   "metadata": {},
   "outputs": [
    {
     "name": "stdout",
     "output_type": "stream",
     "text": [
      "Please Enter your first name:Khurram\n",
      "Please Enter your last name:Shahzad\n",
      "Shahzad Khurram\n"
     ]
    }
   ],
   "source": [
    "#Take input from user and store it in first_name variable...\n",
    "first_name = input (\"Please Enter your first name:\");\n",
    "\n",
    "#Take input from user and store it in last_name variable...\n",
    "last_name = input (\"Please Enter your last name:\");\n",
    "\n",
    "print(last_name,first_name);"
   ]
  },
  {
   "cell_type": "markdown",
   "metadata": {},
   "source": [
    "# Question # 6: Write a python program which takes two inputs from user and print them addition"
   ]
  },
  {
   "cell_type": "code",
   "execution_count": 6,
   "metadata": {},
   "outputs": [
    {
     "name": "stdout",
     "output_type": "stream",
     "text": [
      "Please enter numeric value:78\n",
      "Please enter numeric value:65\n",
      "Your 1st entered value is :  78\n",
      "Your 2nd entered value is :  65\n",
      "Result is :  143\n"
     ]
    }
   ],
   "source": [
    "#Take input from user..\n",
    "num1 = input(\"Please enter numeric value:\");\n",
    "num2 = input(\"Please enter numeric value:\");\n",
    "\n",
    "#  Integer datatype casting against stored values as arithmetic operation could not apply on string data type..\n",
    "result = int(num1) + int (num2);\n",
    "\n",
    "#output of entered data...\n",
    "print(\"Your 1st entered value is : \", num1);\n",
    "print(\"Your 2nd entered value is : \", num2);\n",
    "print(\"Result is : \", result);"
   ]
  },
  {
   "cell_type": "markdown",
   "metadata": {},
   "source": [
    "# Question # 7: Write a program which takes 5 inputs from user for different subject’s marks, total it and generate mark sheet using grades ?"
   ]
  },
  {
   "cell_type": "code",
   "execution_count": 7,
   "metadata": {},
   "outputs": [
    {
     "name": "stdout",
     "output_type": "stream",
     "text": [
      "Enter computer marks: 89\n",
      "Enter math marks: 99\n",
      "Enter english marks: 67\n",
      "Enter accounts marks: 54\n",
      "Enter stats marks:78\n",
      "your obtained marks are: 387 out of 500\n",
      "your percentage is: 77.4\n",
      "your grade is: C\n"
     ]
    }
   ],
   "source": [
    "#take user input for subject marks.\n",
    "computer = int(input (\"Enter computer marks: \"));\n",
    "math = int(input (\"Enter math marks: \"));\n",
    "english = int(input (\"Enter english marks: \"));\n",
    "accounts = int(input (\"Enter accounts marks: \"));\n",
    "stats = int(input (\"Enter stats marks:\"));\n",
    "\n",
    "total_marks = 500;\n",
    "obtained_marks = computer + math + english + accounts + stats;\n",
    "\n",
    "#Calculate obtained marks %..\n",
    "percent = (obtained_marks / total_marks)*100;\n",
    "#using builtin round math function percentage upto 2 dicimal digit..\n",
    "final_percent = round(percent,2)\n",
    "\n",
    "\n",
    "#using 'IF Conditions' for grading..\n",
    "\n",
    "if(final_percent>=95):\n",
    "    print(\"your obtained marks are:\",obtained_marks,\"out of\",total_marks);\n",
    "    print(\"your percentage is:\",final_percent);\n",
    "    print(\"your grade is: A+\");\n",
    "\n",
    "elif(final_percent>=90):\n",
    "    print(\"your obtained marks are:\",obtained_marks,\"out of\",total_marks);\n",
    "    print(\"your percentage is:\",final_percent);\n",
    "    print(\"your grade is: A\");\n",
    "\n",
    "elif(final_percent>=85):\n",
    "    print(\"your obtained marks are:\",obtained_marks,\"out of\",total_marks);\n",
    "    print(\"your percentage is:\",final_percent);\n",
    "    print(\"your grade is: B+\");\n",
    "\n",
    "elif(final_percent>=80):\n",
    "    print(\"your obtained marks are:\",obtained_marks,\"out of\",total_marks);\n",
    "    print(\"your percentage is:\",final_percent);\n",
    "    print(\"your grade is: B\");    \n",
    "\n",
    "elif(final_percent>=70):\n",
    "    print(\"your obtained marks are:\",obtained_marks,\"out of\",total_marks);\n",
    "    print(\"your percentage is:\",final_percent);\n",
    "    print(\"your grade is: C\");    \n",
    "\n",
    "else:\n",
    "    print(\"your obtained marks are:\",obtained_marks,\"out of\",total_marks);\n",
    "    print(\"your percentage is:\",final_percent);\n",
    "    print(\"your grade is: F\");"
   ]
  },
  {
   "cell_type": "markdown",
   "metadata": {},
   "source": [
    "# Question # 8: Write a program which take input from user and identify that the given number is even or odd?"
   ]
  },
  {
   "cell_type": "code",
   "execution_count": 8,
   "metadata": {},
   "outputs": [
    {
     "name": "stdout",
     "output_type": "stream",
     "text": [
      "Enter Numeric Value:7\n",
      "Your number is ODD\n"
     ]
    }
   ],
   "source": [
    "user_input = int(input(\"Enter Numeric Value:\"));\n",
    "\n",
    "check_result = user_input % 2;\n",
    "\n",
    "if(check_result==0):\n",
    "    print(\"Your number is EVEN\");\n",
    "else:\n",
    "    print(\"Your number is ODD\");"
   ]
  },
  {
   "cell_type": "markdown",
   "metadata": {},
   "source": [
    "# Question # 9: Write a program which print the length of the list?"
   ]
  },
  {
   "cell_type": "code",
   "execution_count": 9,
   "metadata": {},
   "outputs": [
    {
     "name": "stdout",
     "output_type": "stream",
     "text": [
      "Length of pak_team list is : 12\n"
     ]
    }
   ],
   "source": [
    "# create pakistan cricekt team name list\n",
    "pak_team = [\"Fakhar Zaman\",\"Muhamad Rizwan\",\"Babar Azam\",\"Muhammad Hafeez\",\"Shoaib Malik\",\"Asif Ali\",\"Shaheen Shah\",\n",
    "            \"Imad Waseem\",\"Haris Rauf\",\"Hassan Ali\",\"Shadab Khan\",\"Sarfraz Ahmed\"];\n",
    "\n",
    "# store length of lis in variable.\n",
    "length_list = len(pak_team);\n",
    "\n",
    "print(\"Length of pak_team list is :\",length_list);"
   ]
  },
  {
   "cell_type": "markdown",
   "metadata": {},
   "source": [
    "# Question # 10: Write a Python program to sum all the numeric items in a list?"
   ]
  },
  {
   "cell_type": "code",
   "execution_count": 10,
   "metadata": {},
   "outputs": [
    {
     "name": "stdout",
     "output_type": "stream",
     "text": [
      "Total Salary of Employees: 223500\n"
     ]
    }
   ],
   "source": [
    "emp_salary = [20000,10000,5000,7000,8000,15000,21000,50000,69000,18500];\n",
    "total_salary = sum(emp_salary);\n",
    "\n",
    "print(\"Total Salary of Employees:\",total_salary);"
   ]
  },
  {
   "cell_type": "markdown",
   "metadata": {},
   "source": [
    "# Question 11: Write a Python program to get the largest number from a numeric list."
   ]
  },
  {
   "cell_type": "code",
   "execution_count": 11,
   "metadata": {},
   "outputs": [
    {
     "name": "stdout",
     "output_type": "stream",
     "text": [
      "Larger number in list is: 69000\n"
     ]
    }
   ],
   "source": [
    "emp_salary = [20000,10000,5000,7000,8000,15000,21000,50000,69000,18500];\n",
    "max_salary = max(emp_salary);\n",
    "\n",
    "print(\"Larger number in list is:\",max_salary);"
   ]
  },
  {
   "cell_type": "markdown",
   "metadata": {},
   "source": [
    "# Question # 12: Take a list, say for example this one: \n",
    "a = [1, 1, 2, 3, 5, 8, 13, 21, 34, 55, 89]\n",
    "Write a program that prints out all the elements of the list that are less than 5."
   ]
  },
  {
   "cell_type": "code",
   "execution_count": 12,
   "metadata": {},
   "outputs": [
    {
     "name": "stdout",
     "output_type": "stream",
     "text": [
      "1 1 2 3 "
     ]
    }
   ],
   "source": [
    "a = [1, 1, 2, 3, 5, 8, 13, 21, 34, 55, 89];\n",
    "for num_limit in a:\n",
    "    if(num_limit<5):\n",
    "        print(num_limit, end=\" \");"
   ]
  }
 ],
 "metadata": {
  "kernelspec": {
   "display_name": "Python 3",
   "language": "python",
   "name": "python3"
  },
  "language_info": {
   "codemirror_mode": {
    "name": "ipython",
    "version": 3
   },
   "file_extension": ".py",
   "mimetype": "text/x-python",
   "name": "python",
   "nbconvert_exporter": "python",
   "pygments_lexer": "ipython3",
   "version": "3.7.2"
  }
 },
 "nbformat": 4,
 "nbformat_minor": 5
}
